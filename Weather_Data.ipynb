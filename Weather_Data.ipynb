{
 "cells": [
  {
   "cell_type": "code",
   "execution_count": 32,
   "metadata": {
    "collapsed": true
   },
   "outputs": [],
   "source": [
    "# Program to Obtain Weather Data from https://www.wunderground.com/\n",
    "# Authors: Sarah Sun, ______ (<== Add names)\n",
    "\n",
    "from urllib.request import Request, urlopen, URLError\n",
    "import requests\n",
    "import json\n",
    "import collections\n",
    "from pprint import pprint\n",
    "\n",
    "api_key = \"b0e8922794793983\""
   ]
  },
  {
   "cell_type": "code",
   "execution_count": 33,
   "metadata": {
    "collapsed": true
   },
   "outputs": [],
   "source": [
    "def flatten_json(json):\n",
    "    if type(json) == dict:\n",
    "        for k, v in list(json.items()):\n",
    "            if type(v) == dict:\n",
    "                flatten_json(v)\n",
    "                json.pop(k)\n",
    "                for k2, v2 in v.items():\n",
    "                    json[k+\".\"+k2] = v2\n",
    "    return json"
   ]
  },
  {
   "cell_type": "code",
   "execution_count": 34,
   "metadata": {
    "collapsed": false
   },
   "outputs": [
    {
     "name": "stdout",
     "output_type": "stream",
     "text": [
      "Clear\n"
     ]
    }
   ],
   "source": [
    "website = \"http://api.wunderground.com/api/b0e8922794793983/conditions/q/CA/San_Francisco.json\"\n",
    "\n",
    "\n",
    "testing = Request(website)\n",
    "\n",
    "try:\n",
    "    response = urlopen(testing)\n",
    "    json_string = response.read().decode(\"utf-8\")\n",
    "    data = json.loads(json_string)\n",
    "    weather_array = flatten_json(data)\n",
    "    print(weather_array['current_observation.weather'])\n",
    "\n",
    "    \n",
    "except URLError:\n",
    "    print('Got an error code:')\n"
   ]
  },
  {
   "cell_type": "code",
   "execution_count": 29,
   "metadata": {
    "collapsed": false
   },
   "outputs": [
    {
     "name": "stdout",
     "output_type": "stream",
     "text": [
      "b'                      __     __,\\n                      \\\\,`~\"~` /\\n      .-=-.           /    . .\\\\\\n     / .-. \\\\          {  =    Y}=\\n    (_/   \\\\ \\\\          \\\\      / \\n           \\\\ \\\\        _/`\\'`\\'`b\\n            \\\\ `.__.-\\'`        \\\\-._\\n             |            \\'.__ `\\'-;_\\n             |            _.\\' `\\'-.__)\\n              \\\\    ;_..-`\\'/     //  \\\\\\n              |   /  /   |     //    |\\n              \\\\  \\\\ \\\\__)   \\\\   //    /\\n               \\\\__)  '\n",
      "                      __     __,\n",
      "                      \\,`~\"~` /\n",
      "      .-=-.           /    . .\\\n",
      "     / .-. \\          {  =    Y}=\n",
      "    (_/   \\ \\          \\      / \n",
      "           \\ \\        _/`'`'`b\n",
      "            \\ `.__.-'`        \\-._\n",
      "             |            '.__ `'-;_\n",
      "             |            _.' `'-.__)\n",
      "              \\    ;_..-`'/     //  \\\n",
      "              |   /  /   |     //    |\n",
      "              \\  \\ \\__)   \\   //    /\n",
      "               \\__)  \n",
      "200\n",
      "{'Content-Type': 'text/html', 'Cache-Control': 'max-age=7200, must-revalidate', 'Set-Cookie': '__cfduid=dfb7227c219c364828ee65ddd5d2716fe1485636769; expires=Sun, 28-Jan-18 20:52:49 GMT; path=/; domain=.placekitten.com; HttpOnly', 'X-Powered-By': 'PleskLin', 'Date': 'Sat, 28 Jan 2017 20:52:49 GMT', 'CF-RAY': '3287549320e15426-LAX', 'Transfer-Encoding': 'chunked', 'Content-Encoding': 'gzip', 'Access-Control-Allow-Origin': '*', 'Server': 'cloudflare-nginx', 'Connection': 'keep-alive'}\n"
     ]
    },
    {
     "ename": "FileNotFoundError",
     "evalue": "[Errno 2] No such file or directory: 'pets.txt'",
     "output_type": "error",
     "traceback": [
      "\u001b[1;31m---------------------------------------------------------------------------\u001b[0m",
      "\u001b[1;31mFileNotFoundError\u001b[0m                         Traceback (most recent call last)",
      "\u001b[1;32m<ipython-input-29-5f9cfbd797d0>\u001b[0m in \u001b[0;36m<module>\u001b[1;34m()\u001b[0m\n\u001b[0;32m     17\u001b[0m \u001b[1;32mfrom\u001b[0m \u001b[0mxml\u001b[0m\u001b[1;33m.\u001b[0m\u001b[0mdom\u001b[0m \u001b[1;32mimport\u001b[0m \u001b[0mminidom\u001b[0m\u001b[1;33m\u001b[0m\u001b[0m\n\u001b[0;32m     18\u001b[0m \u001b[1;33m\u001b[0m\u001b[0m\n\u001b[1;32m---> 19\u001b[1;33m \u001b[0mf\u001b[0m \u001b[1;33m=\u001b[0m \u001b[0mopen\u001b[0m\u001b[1;33m(\u001b[0m\u001b[1;34m'pets.txt'\u001b[0m\u001b[1;33m,\u001b[0m \u001b[1;34m'r'\u001b[0m\u001b[1;33m)\u001b[0m\u001b[1;33m\u001b[0m\u001b[0m\n\u001b[0m\u001b[0;32m     20\u001b[0m \u001b[0mpets\u001b[0m \u001b[1;33m=\u001b[0m \u001b[0mminidom\u001b[0m\u001b[1;33m.\u001b[0m\u001b[0mparseString\u001b[0m\u001b[1;33m(\u001b[0m\u001b[0mf\u001b[0m\u001b[1;33m.\u001b[0m\u001b[0mread\u001b[0m\u001b[1;33m(\u001b[0m\u001b[1;33m)\u001b[0m\u001b[1;33m)\u001b[0m\u001b[1;33m\u001b[0m\u001b[0m\n\u001b[0;32m     21\u001b[0m \u001b[0mf\u001b[0m\u001b[1;33m.\u001b[0m\u001b[0mclose\u001b[0m\u001b[1;33m(\u001b[0m\u001b[1;33m)\u001b[0m\u001b[1;33m\u001b[0m\u001b[0m\n",
      "\u001b[1;31mFileNotFoundError\u001b[0m: [Errno 2] No such file or directory: 'pets.txt'"
     ]
    }
   ],
   "source": [
    "kittens2 = urlopen('http://placekitten.com/200/300')\n",
    "\n",
    "f = open('kittens.jpg', 'wb')\n",
    "f.write(kittens2.read())\n",
    "f.close()\n",
    "\n",
    "kittens3 = urlopen('http://placekitten.com/')\n",
    "response3 = kittens3.read()\n",
    "body = response3[559:1000]\n",
    "print(body)\n",
    "\n",
    "kittens4 = requests.get('http://placekitten.com/')\n",
    "print(kittens4.text[559:1000])\n",
    "print(kittens4.status_code)\n",
    "print(kittens4.headers)\n",
    "\n",
    "from xml.dom import minidom\n",
    "\n",
    "f = open('pets.txt', 'r')\n",
    "pets = minidom.parseString(f.read())\n",
    "f.close()\n",
    "\n",
    "names = pets.getElementsByTagName('name')\n",
    "for name in names:\n",
    "    print(name.firstChild.nodeValue)\n"
   ]
  },
  {
   "cell_type": "code",
   "execution_count": null,
   "metadata": {
    "collapsed": true
   },
   "outputs": [],
   "source": []
  }
 ],
 "metadata": {
  "anaconda-cloud": {},
  "kernelspec": {
   "display_name": "Python [Root]",
   "language": "python",
   "name": "Python [Root]"
  },
  "language_info": {
   "codemirror_mode": {
    "name": "ipython",
    "version": 3
   },
   "file_extension": ".py",
   "mimetype": "text/x-python",
   "name": "python",
   "nbconvert_exporter": "python",
   "pygments_lexer": "ipython3",
   "version": "3.5.2"
  }
 },
 "nbformat": 4,
 "nbformat_minor": 0
}
