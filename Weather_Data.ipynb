{
 "cells": [
  {
   "cell_type": "code",
   "execution_count": 52,
   "metadata": {
    "collapsed": true
   },
   "outputs": [],
   "source": [
    "# Program to Obtain Weather Data from https://www.wunderground.com/\n",
    "# Authors: Sarah Sun, ______ (<== Add names)\n",
    "\n",
    "from urllib.request import Request, urlopen, URLError\n",
    "import requests\n",
    "import json\n",
    "import collections\n",
    "from pprint import pprint\n",
    "\n",
    "api_key = \"b0e8922794793983\""
   ]
  },
  {
   "cell_type": "code",
   "execution_count": 53,
   "metadata": {
    "collapsed": true
   },
   "outputs": [],
   "source": [
    "# Creates a list of website links based on list of tuples in format(City, state) (i.e (San_Francisco, CA))\n",
    "\n",
    "def website_link(city_state):\n",
    "    websites = []\n",
    "    for item in city_state:\n",
    "        websites.append(\"http://api.wunderground.com/api/b0e8922794793983/conditions/q/{0}/{1}.json\".format(item[1], item[0]))\n",
    "    return websites"
   ]
  },
  {
   "cell_type": "code",
   "execution_count": 54,
   "metadata": {
    "collapsed": true
   },
   "outputs": [],
   "source": [
    "# Opens provided Website Url from Json format into dictionary\n",
    "\n",
    "def open_url(website):\n",
    "    testing = Request(website)\n",
    "\n",
    "    try:\n",
    "        response = urlopen(testing)\n",
    "        json_string = response.read().decode(\"utf-8\")\n",
    "        data = json.loads(json_string)\n",
    "        return data\n",
    "\n",
    "    except URLError:\n",
    "        print('Got an error code:')"
   ]
  },
  {
   "cell_type": "code",
   "execution_count": 55,
   "metadata": {
    "collapsed": true
   },
   "outputs": [],
   "source": [
    "# Changes nested dictionary obtained from wunderground to an unnested dictionary\n",
    "\n",
    "def flatten_json(json):\n",
    "    if type(json) == dict:\n",
    "        for k, v in list(json.items()):\n",
    "            if type(v) == dict:\n",
    "                flatten_json(v)\n",
    "                json.pop(k)\n",
    "                for k2, v2 in v.items():\n",
    "                    json[k+\".\"+k2] = v2\n",
    "    return json"
   ]
  },
  {
   "cell_type": "code",
   "execution_count": 56,
   "metadata": {
    "collapsed": false
   },
   "outputs": [
    {
     "name": "stdout",
     "output_type": "stream",
     "text": [
      "['http://api.wunderground.com/api/b0e8922794793983/conditions/q/CA/San_Francisco.json', 'http://api.wunderground.com/api/b0e8922794793983/conditions/q/CA/Los_Angeles.json']\n",
      "['Clear', 'Clear']\n"
     ]
    }
   ],
   "source": [
    "\"http://api.wunderground.com/api/b0e8922794793983/conditions/q/CA/San_Francisco.json\"\n",
    "websites = website_link([('San_Francisco', 'CA'), ('Los_Angeles', 'CA')])\n",
    "print(websites)\n",
    "\n",
    "data = [open_url(website) for website in websites]\n",
    "#print(data)\n",
    "weather_array = [flatten_json(d) for d in data]\n",
    "print([weather.get('current_observation.weather') for weather in weather_array])\n"
   ]
  },
  {
   "cell_type": "code",
   "execution_count": 58,
   "metadata": {
    "collapsed": false
   },
   "outputs": [
    {
     "name": "stdout",
     "output_type": "stream",
     "text": [
      "b'                      __     __,\\n                      \\\\,`~\"~` /\\n      .-=-.           /    . .\\\\\\n     / .-. \\\\          {  =    Y}=\\n    (_/   \\\\ \\\\          \\\\      / \\n           \\\\ \\\\        _/`\\'`\\'`b\\n            \\\\ `.__.-\\'`        \\\\-._\\n             |            \\'.__ `\\'-;_\\n             |            _.\\' `\\'-.__)\\n              \\\\    ;_..-`\\'/     //  \\\\\\n              |   /  /   |     //    |\\n              \\\\  \\\\ \\\\__)   \\\\   //    /\\n               \\\\__)  '\n",
      "                      __     __,\n",
      "                      \\,`~\"~` /\n",
      "      .-=-.           /    . .\\\n",
      "     / .-. \\          {  =    Y}=\n",
      "    (_/   \\ \\          \\      / \n",
      "           \\ \\        _/`'`'`b\n",
      "            \\ `.__.-'`        \\-._\n",
      "             |            '.__ `'-;_\n",
      "             |            _.' `'-.__)\n",
      "              \\    ;_..-`'/     //  \\\n",
      "              |   /  /   |     //    |\n",
      "              \\  \\ \\__)   \\   //    /\n",
      "               \\__)  \n",
      "200\n",
      "{'Content-Type': 'text/html', 'Content-Encoding': 'gzip', 'Transfer-Encoding': 'chunked', 'CF-RAY': '3287b088b3ef22dc-LAX', 'X-Powered-By': 'PleskLin', 'Date': 'Sat, 28 Jan 2017 21:55:36 GMT', 'Connection': 'keep-alive', 'Server': 'cloudflare-nginx', 'Cache-Control': 'max-age=7200, must-revalidate', 'Access-Control-Allow-Origin': '*', 'Set-Cookie': '__cfduid=dbcb2a828cd7d10a81640004384e6c6731485640536; expires=Sun, 28-Jan-18 21:55:36 GMT; path=/; domain=.placekitten.com; HttpOnly'}\n"
     ]
    }
   ],
   "source": [
    "#Tests on How to use APIs in general\n",
    "\n",
    "kittens2 = urlopen('http://placekitten.com/200/300')\n",
    "\n",
    "f = open('kittens.jpg', 'wb')\n",
    "f.write(kittens2.read())\n",
    "f.close()\n",
    "\n",
    "kittens3 = urlopen('http://placekitten.com/')\n",
    "response3 = kittens3.read()\n",
    "body = response3[559:1000]\n",
    "print(body)\n",
    "\n",
    "kittens4 = requests.get('http://placekitten.com/')\n",
    "print(kittens4.text[559:1000])\n",
    "print(kittens4.status_code)\n",
    "print(kittens4.headers)\n",
    "\n",
    "from xml.dom import minidom\n"
   ]
  },
  {
   "cell_type": "code",
   "execution_count": null,
   "metadata": {
    "collapsed": true
   },
   "outputs": [],
   "source": []
  }
 ],
 "metadata": {
  "anaconda-cloud": {},
  "kernelspec": {
   "display_name": "Python [Root]",
   "language": "python",
   "name": "Python [Root]"
  },
  "language_info": {
   "codemirror_mode": {
    "name": "ipython",
    "version": 3
   },
   "file_extension": ".py",
   "mimetype": "text/x-python",
   "name": "python",
   "nbconvert_exporter": "python",
   "pygments_lexer": "ipython3",
   "version": "3.5.2"
  }
 },
 "nbformat": 4,
 "nbformat_minor": 0
}
