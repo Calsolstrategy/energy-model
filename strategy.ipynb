{
 "cells": [
  {
   "cell_type": "code",
   "execution_count": 74,
   "metadata": {
    "collapsed": true
   },
   "outputs": [],
   "source": [
    "#TODO/NOTES\n",
    "\n",
    "# Currently using Zephyr data, stick with that for now, update to Tachyon stats later\n",
    "# what amount of battery cap should be minimum?\n",
    "# EDIT weather array so its the same length as the distance_readings array (not hardcoded 512)\n",
    "# TODO How to integreate Weather_data.ipynb with weather_array"
   ]
  },
  {
   "cell_type": "code",
   "execution_count": 75,
   "metadata": {
    "collapsed": false
   },
   "outputs": [],
   "source": [
    "# Program to Calculate Power and energy state of the battery of the solar car when driving.\n",
    "    # Takes in environmental conditions like terrain, weather to do so.\n",
    "# Authors: Grace Zhang, Matthew Turney, Neha Kunjal, Jason Lum, Andrew Kim, Alex Yi, Sarah Sun\n",
    "\n",
    "%matplotlib inline\n",
    "from math import sin, cos, pi, atan\n",
    "import csv\n",
    "import matplotlib.pyplot as plt\n",
    "import random\n",
    "import numpy as np\n",
    "%run Weather_Data.ipynb"
   ]
  },
  {
   "cell_type": "code",
   "execution_count": 76,
   "metadata": {
    "collapsed": true
   },
   "outputs": [],
   "source": [
    "# Variables\n",
    "\n",
    "Cd = 0.17\n",
    "A = 1.15\n",
    "roll_resist_co = 0.0025\n",
    "mass = 285 # Zephyr car + driver mass (kg)\n",
    "g = 9.8 #kg-m/s^2\n",
    "battery_percentage = 100.0 #starting battery percentage\n",
    "battery_capacity = 4.5 # kwh (Zephyr - Tachyon is more like 15?)\n",
    "num_stops_est = .0625 # stops per km - (1 per 16 km ~ 10miles)\n",
    "array_power = {\"Rain\":150,\"Showers\":150, \"Chance of Rain\":300.0,\"Chance of Showers\":300.0, \"Overcast\":300.0,\"Cloudy\":350.0, \"Mostly Cloudy\":500.0, \"Partly Cloudy\":750.0,\"Partly Sunny\":900.0, \"Mostly Sunny\":1000.0, \"Clear\":1250.0} # array power under different weather conds in\n",
    "weather_array = [\"Clear\" for i in range(512)] # array of the same length as the distance readings\n",
    "zero_to_sixty = 1.34112 # zero to sixty acceleration in m/s^2 (based on Enzhi's estimate of ~20 +/- 3s for 0 to 60)"
   ]
  },
  {
   "cell_type": "code",
   "execution_count": 77,
   "metadata": {
    "collapsed": true
   },
   "outputs": [],
   "source": [
    "# Opens terrain file in csv format and returns distance readings and elevations readings\n",
    "\n",
    "def terrain(terr):\n",
    "    terrain_reader = csv.reader(open(terr))\n",
    "    elevation_readings, distance_readings = [], []\n",
    "    for i in [i for i in terrain_reader][1:]:\n",
    "        elevation_readings += [i[1]]\n",
    "        distance_readings += [i[0]]\n",
    "    return distance_readings, elevation_readings"
   ]
  },
  {
   "cell_type": "code",
   "execution_count": 78,
   "metadata": {
    "collapsed": true
   },
   "outputs": [],
   "source": [
    "# Calculates instantaneous power given velocity (m/s), incline(radians?), acceleration(m/s^2)\n",
    "\n",
    "def power(velocity, incline, accel=0): \n",
    "    force = .5 * 1.225 * Cd * A * velocity**2 + roll_resist_co*mass*g*cos(incline) + mass*g*sin(incline) + mass*accel\n",
    "    power = force * velocity\n",
    "    return power"
   ]
  },
  {
   "cell_type": "code",
   "execution_count": 79,
   "metadata": {
    "collapsed": true
   },
   "outputs": [],
   "source": [
    "# Calculates energy usage per stop\n",
    "\n",
    "def calc_stop_energy(velocity): \n",
    "    energy = 0.5 * mass * velocity * velocity # joules\n",
    "    return energy / 3600000.0 # kwh"
   ]
  },
  {
   "cell_type": "code",
   "execution_count": 80,
   "metadata": {
    "collapsed": true
   },
   "outputs": [],
   "source": [
    "# Calculates start energy\n",
    "\n",
    "def calc_start_energy(distance):\n",
    "    energy = zero_to_sixty * mass * distance #joules\n",
    "    return energy / 3600000.0"
   ]
  },
  {
   "cell_type": "code",
   "execution_count": 81,
   "metadata": {
    "collapsed": true
   },
   "outputs": [],
   "source": [
    "# Takes in velocity (constant) and terrain file, outputs\n",
    "    # lists of: total energy used at each time step, power readings at \n",
    "    # each step, distance readings at each step, overall total energy value.\n",
    "    #Assume initial power is around 10-15 kw for now\n",
    "\n",
    "def energy(velocity, terr, init_power = 15, num_stops=.1): \n",
    "    \n",
    "    e, last_distance, last_elevation = 0, 0, 0\n",
    "    energy_readings = []\n",
    "    power_readings = [init_power]\n",
    "    distance_readings, elevation_readings = terrain(terr)\n",
    "    \n",
    "    for i in range(len(elevation_readings)):\n",
    "        try: \n",
    "            d = float(distance_readings[i])\n",
    "            if d == 0:\n",
    "                last_elevation = float(elevation_readings[i])\n",
    "            else:\n",
    "                delta_d = d - last_distance\n",
    "                stop_energy_used = delta_d / 1000 * num_stops * calc_stop_energy(velocity)\n",
    "                time = (float(distance_readings[i]) - last_distance)/velocity\n",
    "                p = power(velocity, atan((float(elevation_readings[i]) - last_elevation)/(float(distance_readings[i])-last_distance))) #calculates elevation angle\n",
    "                array_pow = array_power[weather_array[i]] / time #finds energy gained based on weather\n",
    "                e += (p * (time)) + stop_energy_used + calc_start_energy(delta_d) - array_pow \n",
    "                power_readings.append(p)\n",
    "                last_elevation = float(elevation_readings[i])  \n",
    "                last_distance = float(distance_readings[i])\n",
    "        except ValueError:\n",
    "            print(\"ValueError\")\n",
    "            continue\n",
    "        energy_readings.append(e/3600000) #kWh\n",
    "    return energy_readings, power_readings, distance_readings, e"
   ]
  },
  {
   "cell_type": "code",
   "execution_count": 82,
   "metadata": {
    "collapsed": true
   },
   "outputs": [],
   "source": [
    "#Plots total energy used over an entire test for a range of test velocities\n",
    "\n",
    "def plot_energy(rangeVel, terrain_file): \n",
    "    energies = []\n",
    "    vs = []\n",
    "    for v in rangeVel:\n",
    "        vs.append(v)\n",
    "        energy_val, power, distance, total_energy = energy(v, terrain_file)\n",
    "        energies+= [total_energy] #causing out of range error\n",
    "    for i in range(0, len(vs)):\n",
    "        vs[i] = 2.23694 * vs[i] #conversion of m/s to mph\n",
    "    plt.plot(vs, energies)\n",
    "    plt.ylabel(\"Total Energy (kWh)\")\n",
    "    plt.xlabel(\"Velocity (mph)\")\n",
    "    plt.show()"
   ]
  },
  {
   "cell_type": "code",
   "execution_count": 83,
   "metadata": {
    "collapsed": true
   },
   "outputs": [],
   "source": [
    "#Plots battery energy over distance\n",
    "\n",
    "def plot_energy_time(velocity, terrain_file): \n",
    "    energy_val, power, distance, total_energy = energy(velocity, terrain_file, num_stops = num_stops_est)\n",
    "    plt.plot([float(d) / 1000.0 for d in distance], [battery_capacity - i for i in energy_val])\n",
    "    plt.ylabel(\"Energy (kWh)\")\n",
    "    plt.xlabel(\"Distance (km)\")\n",
    "    plt.show()"
   ]
  },
  {
   "cell_type": "code",
   "execution_count": 84,
   "metadata": {
    "collapsed": true
   },
   "outputs": [],
   "source": [
    "#Plots battery percentage over distance\n",
    "\n",
    "def plot_energy_time_percentage(velocity, terrain_file): \n",
    "    energy_val, power, distance, total_energy = energy(velocity, terrain_file, num_stops = num_stops_est)\n",
    "    plt.plot([float(d) / 1000.0 for d in distance], [((battery_capacity - i) / battery_capacity) * 100 for i in energy_val])\n",
    "    plt.ylabel(\"Energy (%)\")\n",
    "    plt.xlabel(\"Distance (km)\")\n",
    "    plt.show()"
   ]
  },
  {
   "cell_type": "code",
   "execution_count": 85,
   "metadata": {
    "collapsed": true
   },
   "outputs": [],
   "source": [
    "#Plots instantaneous power over distance. Assumes that velocity is constant.\n",
    "\n",
    "def plot_instantaneous_power_time(velocity, terrain_file): \n",
    "    energy_val, power, distance, total_energy = energy(velocity, terrain_file, num_stops = num_stops_est)\n",
    "    plt.plot([float(d) / 1000.0 for d in distance], [p / 1000 if p > 0 else 0 for p in power])\n",
    "    plt.ylabel(\"Power (kW)\")\n",
    "    plt.xlabel(\"Distance (km)\")\n",
    "    plt.show()"
   ]
  },
  {
   "cell_type": "code",
   "execution_count": 86,
   "metadata": {
    "collapsed": false,
    "scrolled": true
   },
   "outputs": [
    {
     "data": {
      "image/png": "[encoded data removed]",
      "text/plain": [
       "<matplotlib.figure.Figure at 0x247bcd0cd68>"
      ]
     },
     "metadata": {},
     "output_type": "display_data"
    },
    {
     "data": {
      "image/png": "[encoded data removed]",
      "text/plain": [
       "<matplotlib.figure.Figure at 0x247bcd0cb38>"
      ]
     },
     "metadata": {},
     "output_type": "display_data"
    },
    {
     "data": {
      "image/png": "[encoded data removed]",
      "text/plain": [
       "<matplotlib.figure.Figure at 0x247bcc5ba58>"
      ]
     },
     "metadata": {},
     "output_type": "display_data"
    },
    {
     "data": {
      "image/png": "[encoded data removed]",
      "text/plain": [
       "<matplotlib.figure.Figure at 0x247bdd719b0>"
      ]
     },
     "metadata": {},
     "output_type": "display_data"
    }
   ],
   "source": [
    "# Tests if Plots work   \n",
    "    \n",
    "plot_energy(range(1,40), \"terrain1.csv\")\n",
    "plot_energy_time(20, \"terrain1.csv\")\n",
    "plot_energy_time_percentage(20, \"terrain1.csv\")\n",
    "plot_instantaneous_power_time(20, \"terrain1.csv\")"
   ]
  },
  {
   "cell_type": "code",
   "execution_count": 87,
   "metadata": {
    "collapsed": false
   },
   "outputs": [],
   "source": [
    "# Tests to see if you can run Weather_Data in this file\n",
    "# Uncomment to see how it works\n",
    "\n",
    "#weather = get_weather([('San_Francisco', 'CA'), ('Berkeley', 'CA'), ('Stony_Brook', 'NY'), ('New_York', 'NY'), ('Los_Angeles', 'CA')])\n",
    "#print(weather)"
   ]
  },
  {
   "cell_type": "code",
   "execution_count": null,
   "metadata": {
    "collapsed": true
   },
   "outputs": [],
   "source": []
  }
 ],
 "metadata": {
  "anaconda-cloud": {},
  "kernelspec": {
   "display_name": "Python [Root]",
   "language": "python",
   "name": "Python [Root]"
  },
  "language_info": {
   "codemirror_mode": {
    "name": "ipython",
    "version": 3
   },
   "file_extension": ".py",
   "mimetype": "text/x-python",
   "name": "python",
   "nbconvert_exporter": "python",
   "pygments_lexer": "ipython3",
   "version": "3.5.2"
  }
 },
 "nbformat": 4,
 "nbformat_minor": 0
}
