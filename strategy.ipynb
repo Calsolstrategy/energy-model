{
 "cells": [
  {
   "cell_type": "code",
   "execution_count": 114,
   "metadata": {
    "collapsed": false,
    "scrolled": true
   },
   "outputs": [
    {
     "data": {
      "image/png": "[encoded data removed]",
      "text/plain": [
       "<matplotlib.figure.Figure at 0x115a737f0>"
      ]
     },
     "metadata": {},
     "output_type": "display_data"
    }
   ],
   "source": [
    "%matplotlib inline\n",
    "from math import sin, cos, pi, atan\n",
    "import csv\n",
    "import matplotlib.pyplot as plt\n",
    "import random\n",
    "\n",
    "Cd = 0.17\n",
    "A = 1.15\n",
    "roll_resist_co = 0.0025\n",
    "mass = 285 #kg\n",
    "g = 9.8 #kg-m/s^2\n",
    "total_charge = 100 #percentage\n",
    "def power(velocity, incline):\n",
    "    return power2(velocity, incline, 0)\n",
    "    \n",
    "\n",
    "def power2(velocity, incline, accel):\n",
    "    force = .5 * 1.225 * Cd * A * velocity**2 + roll_resist_co*mass*g*cos(incline) + mass*g*sin(incline) + mass*accel\n",
    "    power = force * velocity\n",
    "    return power\n",
    "\n",
    "def energy(velocity, terrain):\n",
    "    terrain_reader = csv.reader(open(terrain))\n",
    "    energy, last_distance, last_elevation = 0, 0, 0\n",
    "    for row in terrain_reader:\n",
    "        try: \n",
    "            d = float(row[0])\n",
    "            if d == 0:\n",
    "                last_elevation = float(row[1])\n",
    "            else:\n",
    "                p = power(velocity, atan((float(row[1]) - last_elevation)/(float(row[0])-last_distance))) #calculates elevation angle\n",
    "                time = (float(row[0]) - last_distance)/velocity\n",
    "                if p * time > 0:\n",
    "                    energy += p * (time)\n",
    "                last_elevation = float(row[1])  \n",
    "                last_distance = float(row[0])\n",
    "        except ValueError:\n",
    "            continue\n",
    "    return energy/3600000 #converts to kW/hr\n",
    "\n",
    "\n",
    "def energy_sim(velocity_range, terrain):\n",
    "    energy = []\n",
    "    for i in range(100):\n",
    "        terrain_reader = csv.reader(open(terrain))\n",
    "        e, last_distance, last_elevation = 0, 0, 0\n",
    "        for row in terrain_reader:\n",
    "            try: \n",
    "                d = float(row[0])\n",
    "                if d == 0:\n",
    "                    last_elevation = float(row[1])\n",
    "                else:\n",
    "                    p = power(random.choice(velocity_range), atan((float(row[1]) - last_elevation)/(float(row[0])-last_distance))) #calculates elevation angle\n",
    "                    time = (float(row[0]) - last_distance)/random.choice(velocity_range)\n",
    "                    if p * time > 0:\n",
    "                        e += p * (time) #increments energy by power used during time period\n",
    "                    last_elevation = float(row[1])  \n",
    "                    last_distance = float(row[0])\n",
    "            except ValueError:\n",
    "                continue\n",
    "        energy.append(e/3600000) #converts to kW/hr\n",
    "    return energy\n",
    "\n",
    "def state_of_charge(velocity, incline, time)\n",
    "    global total_charge\n",
    "    total_charge -= power(velocity, incline)*time\n",
    "    return total_charge\n",
    "\n",
    "def instantaneous_power_data(velocity, terrain):\n",
    "    distance_list = []\n",
    "    power_list = []\n",
    "    total_distance = 0\n",
    "    terrain_reader = csv.reader(open(terrain))\n",
    "    p, last_distance, last_elevation = 0, 0, 0\n",
    "    for row in terrain_reader:\n",
    "        try: \n",
    "            d = float(row[0])\n",
    "            if d == 0:\n",
    "                last_elevation = float(row[1])\n",
    "            else:\n",
    "                p = power(random.choice(velocity), atan((float(row[1]) - last_elevation)/(float(row[0])-last_distance))) #calculates power\n",
    "                total_distance += (float(row[0]) - last_distance)\n",
    "                last_elevation = float(row[1])  \n",
    "                last_distance = float(row[0])\n",
    "                distance_list.append(total_distance)\n",
    "                power_list.append(p)\n",
    "            except ValueError:\n",
    "                continue\n",
    "    return distance_list, power_list #returns a list of distance travelled vs power used at particular distance; correlated by index\n",
    "\n",
    "def plot_instantaneous_power(velocity, terrain):\n",
    "    distance, power = instantaneous_power(velocity, terrain)\n",
    "    plt.plot(distance, power) #displays a graph\n",
    "\n",
    "\n",
    "def run_energy_sim(range,terrain_file):\n",
    "    x = energy_sim(range, terrain_file)   \n",
    "    plt.hist(x)\n",
    "\n",
    "def plot_energy(range, terrain_file):\n",
    "    energies = []\n",
    "    energies2 = []\n",
    "    vs = []\n",
    "    for v in range:\n",
    "        vs.append(v)\n",
    "        energies.append(energy(v, terrain_file))\n",
    "    plt.plot(vs, energies)\n"
   ]
  },
  {
   "cell_type": "code",
   "execution_count": null,
   "metadata": {
    "collapsed": true
   },
   "outputs": [],
   "source": []
  },
  {
   "cell_type": "code",
   "execution_count": null,
   "metadata": {
    "collapsed": true
   },
   "outputs": [],
   "source": []
  }
 ],
 "metadata": {
  "anaconda-cloud": {},
  "kernelspec": {
   "display_name": "Python [conda root]",
   "language": "python",
   "name": "conda-root-py"
  },
  "language_info": {
   "codemirror_mode": {
    "name": "ipython",
    "version": 3
   },
   "file_extension": ".py",
   "mimetype": "text/x-python",
   "name": "python",
   "nbconvert_exporter": "python",
   "pygments_lexer": "ipython3",
   "version": "3.5.2"
  }
 },
 "nbformat": 4,
 "nbformat_minor": 0
}
