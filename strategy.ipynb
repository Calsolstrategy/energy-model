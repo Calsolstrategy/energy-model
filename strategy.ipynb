{
 "cells": [
  {
   "cell_type": "code",
   "execution_count": 64,
   "metadata": {
    "collapsed": false,
    "scrolled": true
   },
   "outputs": [
    {
     "data": {
      "image/png": "[encoded data removed]",
      "text/plain": [
       "<matplotlib.figure.Figure at 0x7f5de5b81940>"
      ]
     },
     "metadata": {},
     "output_type": "display_data"
    }
   ],
   "source": [
    "%matplotlib inline\n",
    "from math import sin, cos, pi, atan\n",
    "import csv\n",
    "import matplotlib.pyplot as plt\n",
    "import random\n",
    "\n",
    "Cd = 0.17\n",
    "A = 1.15\n",
    "roll_resist_co = 0.0025\n",
    "mass = 285 #kg\n",
    "g = 9.8 #kg-m/s^2\n",
    "battery_percentage = 100 #percentage\n",
    "battery_capacity = 4.5 # kwh\n",
    "\n",
    "def power(velocity, incline, accel=0): # Calculates instantaneous power given velocity (m/s), incline(radians?), acceleration(m/s^2)\n",
    "    force = .5 * 1.225 * Cd * A * velocity**2 + roll_resist_co*mass*g*cos(incline) + mass*g*sin(incline) + mass*accel\n",
    "    power = force * velocity\n",
    "    return power\n",
    "\n",
    "#CURRENTLY ISSUE WITH OPENING TERRAIN FILE!\n",
    "def energy(velocity, terrain): \n",
    "    # Takes in velocity (constant) and terrain file, outputs - \n",
    "    #lists of: total energy used at each time step, power readings at each step, distance readings at each step, overall total energy value\n",
    "    terrain_reader = csv.reader(open(terrain))\n",
    "    e, last_distance, last_elevation = 0, 0, 0\n",
    "    energy_readings = []\n",
    "    power_readings = []\n",
    "    distance_readings = []\n",
    "    elevation_readings = []\n",
    "    \n",
    "    for i in [i for i in terrain_reader][1:]:\n",
    "        elevation_readings+=[i[1]]\n",
    "        distance_readings+=[i[0]]\n",
    "    \n",
    "    for i in range(len(elevation_readings)):\n",
    "        try: \n",
    "            d = float(distance_readings[i])\n",
    "            if d == 0:\n",
    "                last_elevation = float(elevation_readings[i])\n",
    "            else:\n",
    "                p = power(velocity, atan((float(elevation_readings[i]) - last_elevation)/(float(distance_readings[i])-last_distance))) #calculates elevation angle\n",
    "                power_readings.append(p)\n",
    "                time = (float(distance_readings[i]) - last_distance)/velocity\n",
    "                e += p * (time)\n",
    "                last_elevation = float(elevation_readings[i])  \n",
    "                last_distance = float(distance_readings[i])\n",
    "        except ValueError:\n",
    "            print(\"ValueError\")\n",
    "            continue\n",
    "        energy_readings.append(e/3600000)\n",
    "    return energy_readings, power_readings, distance_readings, e\n",
    "\n",
    "\n",
    "def plot_energy(range, terrain_file): #Plots total energy used over an entire test for a range of test velocities\n",
    "    energies = []\n",
    "    vs = []\n",
    "    for v in range:\n",
    "        vs.append(v)\n",
    "        energy_val, power, distance, total_energy = energy(v, terrain_file)\n",
    "        energies+= [total_energy] #causing out of range error\n",
    "    plt.plot(vs, energies)\n",
    "    \n",
    "def plot_energy_time(velocity, terrain_file): #Plots battery energy over distance\n",
    "    energy_val, power, distance, total_energy = energy(velocity, terrain_file)\n",
    "    plt.plot(distance, [battery_capacity - i for i in energy_val])\n",
    "    \n",
    "def plot_energy_time_percentage(velocity, terrain_file): #Plots batter percentage over distance\n",
    "    energy_val, power, distance, total_energy = energy(velocity, terrain_file)\n",
    "    plt.plot(distance, [((battery_capacity - i) / battery_capacity) * 100 for i in energy_val])\n",
    "    \n",
    "#plot_energy(range(1,40), \"terrain1.csv\")\n",
    "#plot_energy_time(20, \"terrain1.csv\")\n",
    "plot_energy_time_percentage(20, \"terrain1.csv\")"
   ]
  },
  {
   "cell_type": "code",
   "execution_count": null,
   "metadata": {
    "collapsed": true
   },
   "outputs": [],
   "source": []
  },
  {
   "cell_type": "code",
   "execution_count": null,
   "metadata": {
    "collapsed": true
   },
   "outputs": [],
   "source": []
  }
 ],
 "metadata": {
  "anaconda-cloud": {},
  "kernelspec": {
   "display_name": "Python 3",
   "language": "python",
   "name": "python3"
  },
  "language_info": {
   "codemirror_mode": {
    "name": "ipython",
    "version": 3
   },
   "file_extension": ".py",
   "mimetype": "text/x-python",
   "name": "python",
   "nbconvert_exporter": "python",
   "pygments_lexer": "ipython3",
   "version": "3.4.5"
  }
 },
 "nbformat": 4,
 "nbformat_minor": 0
}
